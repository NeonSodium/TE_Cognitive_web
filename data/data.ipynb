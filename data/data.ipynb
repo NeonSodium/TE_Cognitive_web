{
 "cells": [
  {
   "cell_type": "code",
   "execution_count": 4,
   "metadata": {},
   "outputs": [
    {
     "output_type": "execute_result",
     "data": {
      "text/plain": "                    correct key_press correct_response       rt  time_elapsed  \\\nid_sujet trial item                                                             \n29       1     1          1         9                9  641.905         12071   \n               2          1         5                5  253.075         12325   \n               3          1         7                7  280.415         12606   \n         2     1          1         2                2  722.750         18835   \n               2          1         5                5  297.320         19133   \n...                     ...       ...              ...      ...           ...   \n         14    4                    8                7   15.590        140457   \n               5                    3                1   38.665        140496   \n               6          1         9                9    0.110        140497   \n               7          1         6                6  254.120        140751   \n               8                    3                5  171.425        140923   \n\n                      test_part  \nid_sujet trial item              \n29       1     1      trial_1_1  \n               2      trial_1_2  \n               3      trial_1_3  \n         2     1      trial_2_1  \n               2      trial_2_2  \n...                         ...  \n         14    4     trial_14_4  \n               5     trial_14_5  \n               6     trial_14_6  \n               7     trial_14_7  \n               8     trial_14_8  \n\n[94 rows x 6 columns]",
      "text/html": "<div>\n<style scoped>\n    .dataframe tbody tr th:only-of-type {\n        vertical-align: middle;\n    }\n\n    .dataframe tbody tr th {\n        vertical-align: top;\n    }\n\n    .dataframe thead th {\n        text-align: right;\n    }\n</style>\n<table border=\"1\" class=\"dataframe\">\n  <thead>\n    <tr style=\"text-align: right;\">\n      <th></th>\n      <th></th>\n      <th></th>\n      <th>correct</th>\n      <th>key_press</th>\n      <th>correct_response</th>\n      <th>rt</th>\n      <th>time_elapsed</th>\n      <th>test_part</th>\n    </tr>\n    <tr>\n      <th>id_sujet</th>\n      <th>trial</th>\n      <th>item</th>\n      <th></th>\n      <th></th>\n      <th></th>\n      <th></th>\n      <th></th>\n      <th></th>\n    </tr>\n  </thead>\n  <tbody>\n    <tr>\n      <th rowspan=\"11\" valign=\"top\">29</th>\n      <th rowspan=\"3\" valign=\"top\">1</th>\n      <th>1</th>\n      <td>1</td>\n      <td>9</td>\n      <td>9</td>\n      <td>641.905</td>\n      <td>12071</td>\n      <td>trial_1_1</td>\n    </tr>\n    <tr>\n      <th>2</th>\n      <td>1</td>\n      <td>5</td>\n      <td>5</td>\n      <td>253.075</td>\n      <td>12325</td>\n      <td>trial_1_2</td>\n    </tr>\n    <tr>\n      <th>3</th>\n      <td>1</td>\n      <td>7</td>\n      <td>7</td>\n      <td>280.415</td>\n      <td>12606</td>\n      <td>trial_1_3</td>\n    </tr>\n    <tr>\n      <th rowspan=\"2\" valign=\"top\">2</th>\n      <th>1</th>\n      <td>1</td>\n      <td>2</td>\n      <td>2</td>\n      <td>722.750</td>\n      <td>18835</td>\n      <td>trial_2_1</td>\n    </tr>\n    <tr>\n      <th>2</th>\n      <td>1</td>\n      <td>5</td>\n      <td>5</td>\n      <td>297.320</td>\n      <td>19133</td>\n      <td>trial_2_2</td>\n    </tr>\n    <tr>\n      <th>...</th>\n      <th>...</th>\n      <td>...</td>\n      <td>...</td>\n      <td>...</td>\n      <td>...</td>\n      <td>...</td>\n      <td>...</td>\n    </tr>\n    <tr>\n      <th rowspan=\"5\" valign=\"top\">14</th>\n      <th>4</th>\n      <td></td>\n      <td>8</td>\n      <td>7</td>\n      <td>15.590</td>\n      <td>140457</td>\n      <td>trial_14_4</td>\n    </tr>\n    <tr>\n      <th>5</th>\n      <td></td>\n      <td>3</td>\n      <td>1</td>\n      <td>38.665</td>\n      <td>140496</td>\n      <td>trial_14_5</td>\n    </tr>\n    <tr>\n      <th>6</th>\n      <td>1</td>\n      <td>9</td>\n      <td>9</td>\n      <td>0.110</td>\n      <td>140497</td>\n      <td>trial_14_6</td>\n    </tr>\n    <tr>\n      <th>7</th>\n      <td>1</td>\n      <td>6</td>\n      <td>6</td>\n      <td>254.120</td>\n      <td>140751</td>\n      <td>trial_14_7</td>\n    </tr>\n    <tr>\n      <th>8</th>\n      <td></td>\n      <td>3</td>\n      <td>5</td>\n      <td>171.425</td>\n      <td>140923</td>\n      <td>trial_14_8</td>\n    </tr>\n  </tbody>\n</table>\n<p>94 rows × 6 columns</p>\n</div>"
     },
     "metadata": {},
     "execution_count": 4
    }
   ],
   "source": [
    "import csv\n",
    "import pandas as pd\n",
    "import mysql.connector\n",
    "import numpy as np\n",
    "\n",
    "data = pd.read_sql\n",
    "\n",
    "sql_conn =  mysql.connector.connect(host='213.190.6.22', database='u485051925_tecog', user='u485051925_cogueur',  password='Josiana34')\n",
    "#sql_conn =  mysql.connector.connect(host='localhost', database='te_cog', user='root',  password='')\n",
    "query = \"SELECT * FROM digit\"\n",
    "df = pd.read_sql(query, sql_conn)\n",
    "\n",
    "df = df.set_index(['id_sujet', 'trial', 'item'])\n",
    "df"
   ]
  },
  {
   "cell_type": "code",
   "execution_count": 27,
   "metadata": {},
   "outputs": [
    {
     "output_type": "execute_result",
     "data": {
      "text/plain": "'1111111111111111111111111111111'"
     },
     "metadata": {},
     "execution_count": 27
    }
   ],
   "source": [
    "lesujet = 29\n",
    "\n",
    "dfsujet = df.xs(lesujet)\n",
    "score = []\n",
    "pd.to_numeric(dfsujet['correct'])\n",
    "dfsujet['correct'].sum()"
   ]
  }
 ],
 "metadata": {
  "language_info": {
   "codemirror_mode": {
    "name": "ipython",
    "version": 3
   },
   "file_extension": ".py",
   "mimetype": "text/x-python",
   "name": "python",
   "nbconvert_exporter": "python",
   "pygments_lexer": "ipython3",
   "version": "3.7.1-final"
  },
  "orig_nbformat": 2,
  "kernelspec": {
   "name": "python3",
   "display_name": "Python 3"
  }
 },
 "nbformat": 4,
 "nbformat_minor": 2
}