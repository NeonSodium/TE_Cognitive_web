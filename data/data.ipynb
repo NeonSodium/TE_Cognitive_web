{
 "cells": [
  {
   "cell_type": "code",
   "execution_count": 77,
   "metadata": {},
   "outputs": [
    {
     "output_type": "execute_result",
     "data": {
      "text/plain": "                     correct key_press correct_response       rt  \\\nid_sujet trial item                                                \n30       1     1           1         2                2  425.170   \n               2           1         9                9  135.260   \n               3           1         5                5  173.410   \n         2     1           1         4                4  648.540   \n               2           1         1                1  728.415   \n...                      ...       ...              ...      ...   \n32       14    4           0         9                7    0.110   \n               5           0         4                9   12.985   \n               6           0         2                8   27.445   \n               7           0         7                3  141.600   \n               8           0         5                1    4.100   \n\n                     time_elapsed   test_part  \nid_sujet trial item                            \n30       1     1           124134   trial_1_1  \n               2           124270   trial_1_2  \n               3           124444   trial_1_3  \n         2     1           130598   trial_2_1  \n               2           131327   trial_2_2  \n...                           ...         ...  \n32       14    4           252346  trial_14_4  \n               5           252359  trial_14_5  \n               6           252387  trial_14_6  \n               7           252529  trial_14_7  \n               8           252533  trial_14_8  \n\n[282 rows x 6 columns]",
      "text/html": "<div>\n<style scoped>\n    .dataframe tbody tr th:only-of-type {\n        vertical-align: middle;\n    }\n\n    .dataframe tbody tr th {\n        vertical-align: top;\n    }\n\n    .dataframe thead th {\n        text-align: right;\n    }\n</style>\n<table border=\"1\" class=\"dataframe\">\n  <thead>\n    <tr style=\"text-align: right;\">\n      <th></th>\n      <th></th>\n      <th></th>\n      <th>correct</th>\n      <th>key_press</th>\n      <th>correct_response</th>\n      <th>rt</th>\n      <th>time_elapsed</th>\n      <th>test_part</th>\n    </tr>\n    <tr>\n      <th>id_sujet</th>\n      <th>trial</th>\n      <th>item</th>\n      <th></th>\n      <th></th>\n      <th></th>\n      <th></th>\n      <th></th>\n      <th></th>\n    </tr>\n  </thead>\n  <tbody>\n    <tr>\n      <th rowspan=\"5\" valign=\"top\">30</th>\n      <th rowspan=\"3\" valign=\"top\">1</th>\n      <th>1</th>\n      <td>1</td>\n      <td>2</td>\n      <td>2</td>\n      <td>425.170</td>\n      <td>124134</td>\n      <td>trial_1_1</td>\n    </tr>\n    <tr>\n      <th>2</th>\n      <td>1</td>\n      <td>9</td>\n      <td>9</td>\n      <td>135.260</td>\n      <td>124270</td>\n      <td>trial_1_2</td>\n    </tr>\n    <tr>\n      <th>3</th>\n      <td>1</td>\n      <td>5</td>\n      <td>5</td>\n      <td>173.410</td>\n      <td>124444</td>\n      <td>trial_1_3</td>\n    </tr>\n    <tr>\n      <th rowspan=\"2\" valign=\"top\">2</th>\n      <th>1</th>\n      <td>1</td>\n      <td>4</td>\n      <td>4</td>\n      <td>648.540</td>\n      <td>130598</td>\n      <td>trial_2_1</td>\n    </tr>\n    <tr>\n      <th>2</th>\n      <td>1</td>\n      <td>1</td>\n      <td>1</td>\n      <td>728.415</td>\n      <td>131327</td>\n      <td>trial_2_2</td>\n    </tr>\n    <tr>\n      <th>...</th>\n      <th>...</th>\n      <th>...</th>\n      <td>...</td>\n      <td>...</td>\n      <td>...</td>\n      <td>...</td>\n      <td>...</td>\n      <td>...</td>\n    </tr>\n    <tr>\n      <th rowspan=\"5\" valign=\"top\">32</th>\n      <th rowspan=\"5\" valign=\"top\">14</th>\n      <th>4</th>\n      <td>0</td>\n      <td>9</td>\n      <td>7</td>\n      <td>0.110</td>\n      <td>252346</td>\n      <td>trial_14_4</td>\n    </tr>\n    <tr>\n      <th>5</th>\n      <td>0</td>\n      <td>4</td>\n      <td>9</td>\n      <td>12.985</td>\n      <td>252359</td>\n      <td>trial_14_5</td>\n    </tr>\n    <tr>\n      <th>6</th>\n      <td>0</td>\n      <td>2</td>\n      <td>8</td>\n      <td>27.445</td>\n      <td>252387</td>\n      <td>trial_14_6</td>\n    </tr>\n    <tr>\n      <th>7</th>\n      <td>0</td>\n      <td>7</td>\n      <td>3</td>\n      <td>141.600</td>\n      <td>252529</td>\n      <td>trial_14_7</td>\n    </tr>\n    <tr>\n      <th>8</th>\n      <td>0</td>\n      <td>5</td>\n      <td>1</td>\n      <td>4.100</td>\n      <td>252533</td>\n      <td>trial_14_8</td>\n    </tr>\n  </tbody>\n</table>\n<p>282 rows × 6 columns</p>\n</div>"
     },
     "metadata": {},
     "execution_count": 77
    }
   ],
   "source": [
    "import csv\n",
    "import pandas as pd\n",
    "import mysql.connector\n",
    "import numpy as np\n",
    "import fonction as f\n",
    "\n",
    "data = pd.read_sql\n",
    "\n",
    "sql_conn =  mysql.connector.connect(host='213.190.6.22', database='u485051925_tecog', user='u485051925_cogueur',  password='Josiana34')\n",
    "#sql_conn =  mysql.connector.connect(host='localhost', database='te_cog', user='root',  password='')\n",
    "query = \"SELECT * FROM digit\"\n",
    "data = pd.read_sql(query, sql_conn)\n",
    "\n",
    "df = data.set_index(['id_sujet', 'trial', 'item'])\n",
    "df"
   ]
  },
  {
   "cell_type": "code",
   "execution_count": 63,
   "metadata": {},
   "outputs": [
    {
     "output_type": "execute_result",
     "data": {
      "text/plain": "   id_sujet code_sujet\n0        30       test\n1        31       test\n2        32       test",
      "text/html": "<div>\n<style scoped>\n    .dataframe tbody tr th:only-of-type {\n        vertical-align: middle;\n    }\n\n    .dataframe tbody tr th {\n        vertical-align: top;\n    }\n\n    .dataframe thead th {\n        text-align: right;\n    }\n</style>\n<table border=\"1\" class=\"dataframe\">\n  <thead>\n    <tr style=\"text-align: right;\">\n      <th></th>\n      <th>id_sujet</th>\n      <th>code_sujet</th>\n    </tr>\n  </thead>\n  <tbody>\n    <tr>\n      <th>0</th>\n      <td>30</td>\n      <td>test</td>\n    </tr>\n    <tr>\n      <th>1</th>\n      <td>31</td>\n      <td>test</td>\n    </tr>\n    <tr>\n      <th>2</th>\n      <td>32</td>\n      <td>test</td>\n    </tr>\n  </tbody>\n</table>\n</div>"
     },
     "metadata": {},
     "execution_count": 63
    }
   ],
   "source": [
    "query = \"SELECT * FROM sujets\"\n",
    "sujets = pd.read_sql(query, sql_conn)\n",
    "sujets"
   ]
  },
  {
   "cell_type": "code",
   "execution_count": 79,
   "metadata": {},
   "outputs": [
    {
     "output_type": "execute_result",
     "data": {
      "text/plain": "    0  1  2  3  4  5  6  7  8  9  10  11  12  13\n30  1  1  1  0  0  0  0  0  0  0   0   0   0   0\n31  1  1  1  0  0  0  0  0  0  0   0   0   0   0\n32  1  1  1  0  0  0  0  0  0  0   0   0   0   0",
      "text/html": "<div>\n<style scoped>\n    .dataframe tbody tr th:only-of-type {\n        vertical-align: middle;\n    }\n\n    .dataframe tbody tr th {\n        vertical-align: top;\n    }\n\n    .dataframe thead th {\n        text-align: right;\n    }\n</style>\n<table border=\"1\" class=\"dataframe\">\n  <thead>\n    <tr style=\"text-align: right;\">\n      <th></th>\n      <th>0</th>\n      <th>1</th>\n      <th>2</th>\n      <th>3</th>\n      <th>4</th>\n      <th>5</th>\n      <th>6</th>\n      <th>7</th>\n      <th>8</th>\n      <th>9</th>\n      <th>10</th>\n      <th>11</th>\n      <th>12</th>\n      <th>13</th>\n    </tr>\n  </thead>\n  <tbody>\n    <tr>\n      <th>30</th>\n      <td>1</td>\n      <td>1</td>\n      <td>1</td>\n      <td>0</td>\n      <td>0</td>\n      <td>0</td>\n      <td>0</td>\n      <td>0</td>\n      <td>0</td>\n      <td>0</td>\n      <td>0</td>\n      <td>0</td>\n      <td>0</td>\n      <td>0</td>\n    </tr>\n    <tr>\n      <th>31</th>\n      <td>1</td>\n      <td>1</td>\n      <td>1</td>\n      <td>0</td>\n      <td>0</td>\n      <td>0</td>\n      <td>0</td>\n      <td>0</td>\n      <td>0</td>\n      <td>0</td>\n      <td>0</td>\n      <td>0</td>\n      <td>0</td>\n      <td>0</td>\n    </tr>\n    <tr>\n      <th>32</th>\n      <td>1</td>\n      <td>1</td>\n      <td>1</td>\n      <td>0</td>\n      <td>0</td>\n      <td>0</td>\n      <td>0</td>\n      <td>0</td>\n      <td>0</td>\n      <td>0</td>\n      <td>0</td>\n      <td>0</td>\n      <td>0</td>\n      <td>0</td>\n    </tr>\n  </tbody>\n</table>\n</div>"
     },
     "metadata": {},
     "execution_count": 79
    }
   ],
   "source": [
    "scores = []\n",
    "index = []\n",
    "for i in sujets['id_sujet']:\n",
    "    scores.append(f.scoring(df.xs(i)))\n",
    "    index.append(i)\n",
    "\n",
    "pd.DataFrame(scores, index=index)"
   ]
  },
  {
   "cell_type": "code",
   "execution_count": 57,
   "metadata": {},
   "outputs": [
    {
     "output_type": "stream",
     "name": "stdout",
     "text": "empan : 3\n"
    }
   ],
   "source": [
    "print(\"empan :\", np.sum(score))"
   ]
  },
  {
   "cell_type": "code",
   "execution_count": null,
   "metadata": {},
   "outputs": [],
   "source": []
  }
 ],
 "metadata": {
  "language_info": {
   "codemirror_mode": {
    "name": "ipython",
    "version": 3
   },
   "file_extension": ".py",
   "mimetype": "text/x-python",
   "name": "python",
   "nbconvert_exporter": "python",
   "pygments_lexer": "ipython3",
   "version": "3.7.1-final"
  },
  "orig_nbformat": 2,
  "kernelspec": {
   "name": "python3",
   "display_name": "Python 3"
  }
 },
 "nbformat": 4,
 "nbformat_minor": 2
}