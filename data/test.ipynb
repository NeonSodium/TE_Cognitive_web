{
 "cells": [
  {
   "cell_type": "code",
   "execution_count": 87,
   "metadata": {
    "collapsed": true,
    "pycharm": {
     "is_executing": false
    }
   },
   "outputs": [
    {
     "output_type": "execute_result",
     "data": {
      "text/plain": "                    correct key_press correct_response       rt  time_elapsed  \\\nid_sujet trial item                                                             \n27       1     1                    4                7  425.570          6245   \n               2                    9                8   11.355          6257   \n               3          1         3                3    7.320          6265   \n         2     1                    5                6  457.315         12229   \n               2                    7                9   61.345         12291   \n               3                    4                8   19.505         12310   \n               4                    8                3    8.875         12320   \n         3     1                    5                6  575.640         19401   \n               2                    8                9   57.655         19459   \n               3                    9                7    0.125         19460   \n               4                    4                2   25.000         19485   \n               5                    3                4   19.400         19505   \n28       1     1                    4                7  425.570          6245   \n               2                    9                8   11.355          6257   \n               3          1         3                3    7.320          6265   \n         2     1                    5                6  457.315         12229   \n               2                    7                9   61.345         12291   \n               3                    4                8   19.505         12310   \n               4                    8                3    8.875         12320   \n         3     1                    5                6  575.640         19401   \n               2                    8                9   57.655         19459   \n               3                    9                7    0.125         19460   \n               4                    4                2   25.000         19485   \n               5                    3                4   19.400         19505   \n\n                     test_part  \nid_sujet trial item             \n27       1     1     trial_1_1  \n               2     trial_1_2  \n               3     trial_1_3  \n         2     1     trial_2_1  \n               2     trial_2_2  \n               3     trial_2_3  \n               4     trial_2_4  \n         3     1     trial_3_1  \n               2     trial_3_2  \n               3     trial_3_3  \n               4     trial_3_4  \n               5     trial_3_5  \n28       1     1     trial_1_1  \n               2     trial_1_2  \n               3     trial_1_3  \n         2     1     trial_2_1  \n               2     trial_2_2  \n               3     trial_2_3  \n               4     trial_2_4  \n         3     1     trial_3_1  \n               2     trial_3_2  \n               3     trial_3_3  \n               4     trial_3_4  \n               5     trial_3_5  ",
      "text/html": "<div>\n<style scoped>\n    .dataframe tbody tr th:only-of-type {\n        vertical-align: middle;\n    }\n\n    .dataframe tbody tr th {\n        vertical-align: top;\n    }\n\n    .dataframe thead th {\n        text-align: right;\n    }\n</style>\n<table border=\"1\" class=\"dataframe\">\n  <thead>\n    <tr style=\"text-align: right;\">\n      <th></th>\n      <th></th>\n      <th></th>\n      <th>correct</th>\n      <th>key_press</th>\n      <th>correct_response</th>\n      <th>rt</th>\n      <th>time_elapsed</th>\n      <th>test_part</th>\n    </tr>\n    <tr>\n      <th>id_sujet</th>\n      <th>trial</th>\n      <th>item</th>\n      <th></th>\n      <th></th>\n      <th></th>\n      <th></th>\n      <th></th>\n      <th></th>\n    </tr>\n  </thead>\n  <tbody>\n    <tr>\n      <th rowspan=\"12\" valign=\"top\">27</th>\n      <th rowspan=\"3\" valign=\"top\">1</th>\n      <th>1</th>\n      <td></td>\n      <td>4</td>\n      <td>7</td>\n      <td>425.570</td>\n      <td>6245</td>\n      <td>trial_1_1</td>\n    </tr>\n    <tr>\n      <th>2</th>\n      <td></td>\n      <td>9</td>\n      <td>8</td>\n      <td>11.355</td>\n      <td>6257</td>\n      <td>trial_1_2</td>\n    </tr>\n    <tr>\n      <th>3</th>\n      <td>1</td>\n      <td>3</td>\n      <td>3</td>\n      <td>7.320</td>\n      <td>6265</td>\n      <td>trial_1_3</td>\n    </tr>\n    <tr>\n      <th rowspan=\"4\" valign=\"top\">2</th>\n      <th>1</th>\n      <td></td>\n      <td>5</td>\n      <td>6</td>\n      <td>457.315</td>\n      <td>12229</td>\n      <td>trial_2_1</td>\n    </tr>\n    <tr>\n      <th>2</th>\n      <td></td>\n      <td>7</td>\n      <td>9</td>\n      <td>61.345</td>\n      <td>12291</td>\n      <td>trial_2_2</td>\n    </tr>\n    <tr>\n      <th>3</th>\n      <td></td>\n      <td>4</td>\n      <td>8</td>\n      <td>19.505</td>\n      <td>12310</td>\n      <td>trial_2_3</td>\n    </tr>\n    <tr>\n      <th>4</th>\n      <td></td>\n      <td>8</td>\n      <td>3</td>\n      <td>8.875</td>\n      <td>12320</td>\n      <td>trial_2_4</td>\n    </tr>\n    <tr>\n      <th rowspan=\"5\" valign=\"top\">3</th>\n      <th>1</th>\n      <td></td>\n      <td>5</td>\n      <td>6</td>\n      <td>575.640</td>\n      <td>19401</td>\n      <td>trial_3_1</td>\n    </tr>\n    <tr>\n      <th>2</th>\n      <td></td>\n      <td>8</td>\n      <td>9</td>\n      <td>57.655</td>\n      <td>19459</td>\n      <td>trial_3_2</td>\n    </tr>\n    <tr>\n      <th>3</th>\n      <td></td>\n      <td>9</td>\n      <td>7</td>\n      <td>0.125</td>\n      <td>19460</td>\n      <td>trial_3_3</td>\n    </tr>\n    <tr>\n      <th>4</th>\n      <td></td>\n      <td>4</td>\n      <td>2</td>\n      <td>25.000</td>\n      <td>19485</td>\n      <td>trial_3_4</td>\n    </tr>\n    <tr>\n      <th>5</th>\n      <td></td>\n      <td>3</td>\n      <td>4</td>\n      <td>19.400</td>\n      <td>19505</td>\n      <td>trial_3_5</td>\n    </tr>\n    <tr>\n      <th rowspan=\"12\" valign=\"top\">28</th>\n      <th rowspan=\"3\" valign=\"top\">1</th>\n      <th>1</th>\n      <td></td>\n      <td>4</td>\n      <td>7</td>\n      <td>425.570</td>\n      <td>6245</td>\n      <td>trial_1_1</td>\n    </tr>\n    <tr>\n      <th>2</th>\n      <td></td>\n      <td>9</td>\n      <td>8</td>\n      <td>11.355</td>\n      <td>6257</td>\n      <td>trial_1_2</td>\n    </tr>\n    <tr>\n      <th>3</th>\n      <td>1</td>\n      <td>3</td>\n      <td>3</td>\n      <td>7.320</td>\n      <td>6265</td>\n      <td>trial_1_3</td>\n    </tr>\n    <tr>\n      <th rowspan=\"4\" valign=\"top\">2</th>\n      <th>1</th>\n      <td></td>\n      <td>5</td>\n      <td>6</td>\n      <td>457.315</td>\n      <td>12229</td>\n      <td>trial_2_1</td>\n    </tr>\n    <tr>\n      <th>2</th>\n      <td></td>\n      <td>7</td>\n      <td>9</td>\n      <td>61.345</td>\n      <td>12291</td>\n      <td>trial_2_2</td>\n    </tr>\n    <tr>\n      <th>3</th>\n      <td></td>\n      <td>4</td>\n      <td>8</td>\n      <td>19.505</td>\n      <td>12310</td>\n      <td>trial_2_3</td>\n    </tr>\n    <tr>\n      <th>4</th>\n      <td></td>\n      <td>8</td>\n      <td>3</td>\n      <td>8.875</td>\n      <td>12320</td>\n      <td>trial_2_4</td>\n    </tr>\n    <tr>\n      <th rowspan=\"5\" valign=\"top\">3</th>\n      <th>1</th>\n      <td></td>\n      <td>5</td>\n      <td>6</td>\n      <td>575.640</td>\n      <td>19401</td>\n      <td>trial_3_1</td>\n    </tr>\n    <tr>\n      <th>2</th>\n      <td></td>\n      <td>8</td>\n      <td>9</td>\n      <td>57.655</td>\n      <td>19459</td>\n      <td>trial_3_2</td>\n    </tr>\n    <tr>\n      <th>3</th>\n      <td></td>\n      <td>9</td>\n      <td>7</td>\n      <td>0.125</td>\n      <td>19460</td>\n      <td>trial_3_3</td>\n    </tr>\n    <tr>\n      <th>4</th>\n      <td></td>\n      <td>4</td>\n      <td>2</td>\n      <td>25.000</td>\n      <td>19485</td>\n      <td>trial_3_4</td>\n    </tr>\n    <tr>\n      <th>5</th>\n      <td></td>\n      <td>3</td>\n      <td>4</td>\n      <td>19.400</td>\n      <td>19505</td>\n      <td>trial_3_5</td>\n    </tr>\n  </tbody>\n</table>\n</div>"
     },
     "metadata": {},
     "execution_count": 87
    }
   ],
   "source": [
    "import csv\n",
    "import pandas as pd\n",
    "import mysql.connector\n",
    "import numpy as np\n",
    "\n",
    "data = pd.read_sql\n",
    "\n",
    "#sql_conn =  mysql.connector.connect(host='213.190.6.22', database='u485051925_tecog', user='u485051925_cogueur',  password='Josiana34')\n",
    "sql_conn =  mysql.connector.connect(host='localhost', database='te_cog', user='root',  password='')\n",
    "query = \"SELECT * FROM digit\"\n",
    "df = pd.read_sql(query, sql_conn)\n",
    "#print('imported')\n",
    "\n",
    "df = df.set_index(['id_sujet', 'trial', 'item'])\n",
    "df\n"
   ]
  },
  {
   "cell_type": "code",
   "execution_count": 93,
   "metadata": {},
   "outputs": [
    {
     "output_type": "execute_result",
     "data": {
      "text/plain": "   id_sujet code_sujet\n0        27       test\n1        28       test",
      "text/html": "<div>\n<style scoped>\n    .dataframe tbody tr th:only-of-type {\n        vertical-align: middle;\n    }\n\n    .dataframe tbody tr th {\n        vertical-align: top;\n    }\n\n    .dataframe thead th {\n        text-align: right;\n    }\n</style>\n<table border=\"1\" class=\"dataframe\">\n  <thead>\n    <tr style=\"text-align: right;\">\n      <th></th>\n      <th>id_sujet</th>\n      <th>code_sujet</th>\n    </tr>\n  </thead>\n  <tbody>\n    <tr>\n      <th>0</th>\n      <td>27</td>\n      <td>test</td>\n    </tr>\n    <tr>\n      <th>1</th>\n      <td>28</td>\n      <td>test</td>\n    </tr>\n  </tbody>\n</table>\n</div>"
     },
     "metadata": {},
     "execution_count": 93
    }
   ],
   "source": [
    "query = \"SELECT * FROM sujets\"\n",
    "sujets = pd.read_sql(query, sql_conn)\n",
    "sujets"
   ]
  },
  {
   "cell_type": "code",
   "execution_count": 102,
   "outputs": [
    {
     "output_type": "execute_result",
     "data": {
      "text/plain": "[27, 28]"
     },
     "metadata": {},
     "execution_count": 102
    }
   ],
   "source": [
    "sujets_list = sujets['id_sujet'].tolist()\n",
    "sujets_list"
   ],
   "metadata": {
    "collapsed": false,
    "pycharm": {
     "name": "#%%\n",
     "is_executing": false
    }
   }
  },
  {
   "cell_type": "code",
   "execution_count": 116,
   "metadata": {},
   "outputs": [
    {
     "output_type": "execute_result",
     "data": {
      "text/plain": "           correct key_press correct_response       rt  time_elapsed  \\\ntrial item                                                             \n1     1                    4                7  425.570          6245   \n      2                    9                8   11.355          6257   \n      3          1         3                3    7.320          6265   \n2     1                    5                6  457.315         12229   \n      2                    7                9   61.345         12291   \n      3                    4                8   19.505         12310   \n      4                    8                3    8.875         12320   \n3     1                    5                6  575.640         19401   \n      2                    8                9   57.655         19459   \n      3                    9                7    0.125         19460   \n      4                    4                2   25.000         19485   \n      5                    3                4   19.400         19505   \n\n            test_part  \ntrial item             \n1     1     trial_1_1  \n      2     trial_1_2  \n      3     trial_1_3  \n2     1     trial_2_1  \n      2     trial_2_2  \n      3     trial_2_3  \n      4     trial_2_4  \n3     1     trial_3_1  \n      2     trial_3_2  \n      3     trial_3_3  \n      4     trial_3_4  \n      5     trial_3_5  ",
      "text/html": "<div>\n<style scoped>\n    .dataframe tbody tr th:only-of-type {\n        vertical-align: middle;\n    }\n\n    .dataframe tbody tr th {\n        vertical-align: top;\n    }\n\n    .dataframe thead th {\n        text-align: right;\n    }\n</style>\n<table border=\"1\" class=\"dataframe\">\n  <thead>\n    <tr style=\"text-align: right;\">\n      <th></th>\n      <th></th>\n      <th>correct</th>\n      <th>key_press</th>\n      <th>correct_response</th>\n      <th>rt</th>\n      <th>time_elapsed</th>\n      <th>test_part</th>\n    </tr>\n    <tr>\n      <th>trial</th>\n      <th>item</th>\n      <th></th>\n      <th></th>\n      <th></th>\n      <th></th>\n      <th></th>\n      <th></th>\n    </tr>\n  </thead>\n  <tbody>\n    <tr>\n      <th rowspan=\"3\" valign=\"top\">1</th>\n      <th>1</th>\n      <td></td>\n      <td>4</td>\n      <td>7</td>\n      <td>425.570</td>\n      <td>6245</td>\n      <td>trial_1_1</td>\n    </tr>\n    <tr>\n      <th>2</th>\n      <td></td>\n      <td>9</td>\n      <td>8</td>\n      <td>11.355</td>\n      <td>6257</td>\n      <td>trial_1_2</td>\n    </tr>\n    <tr>\n      <th>3</th>\n      <td>1</td>\n      <td>3</td>\n      <td>3</td>\n      <td>7.320</td>\n      <td>6265</td>\n      <td>trial_1_3</td>\n    </tr>\n    <tr>\n      <th rowspan=\"4\" valign=\"top\">2</th>\n      <th>1</th>\n      <td></td>\n      <td>5</td>\n      <td>6</td>\n      <td>457.315</td>\n      <td>12229</td>\n      <td>trial_2_1</td>\n    </tr>\n    <tr>\n      <th>2</th>\n      <td></td>\n      <td>7</td>\n      <td>9</td>\n      <td>61.345</td>\n      <td>12291</td>\n      <td>trial_2_2</td>\n    </tr>\n    <tr>\n      <th>3</th>\n      <td></td>\n      <td>4</td>\n      <td>8</td>\n      <td>19.505</td>\n      <td>12310</td>\n      <td>trial_2_3</td>\n    </tr>\n    <tr>\n      <th>4</th>\n      <td></td>\n      <td>8</td>\n      <td>3</td>\n      <td>8.875</td>\n      <td>12320</td>\n      <td>trial_2_4</td>\n    </tr>\n    <tr>\n      <th rowspan=\"5\" valign=\"top\">3</th>\n      <th>1</th>\n      <td></td>\n      <td>5</td>\n      <td>6</td>\n      <td>575.640</td>\n      <td>19401</td>\n      <td>trial_3_1</td>\n    </tr>\n    <tr>\n      <th>2</th>\n      <td></td>\n      <td>8</td>\n      <td>9</td>\n      <td>57.655</td>\n      <td>19459</td>\n      <td>trial_3_2</td>\n    </tr>\n    <tr>\n      <th>3</th>\n      <td></td>\n      <td>9</td>\n      <td>7</td>\n      <td>0.125</td>\n      <td>19460</td>\n      <td>trial_3_3</td>\n    </tr>\n    <tr>\n      <th>4</th>\n      <td></td>\n      <td>4</td>\n      <td>2</td>\n      <td>25.000</td>\n      <td>19485</td>\n      <td>trial_3_4</td>\n    </tr>\n    <tr>\n      <th>5</th>\n      <td></td>\n      <td>3</td>\n      <td>4</td>\n      <td>19.400</td>\n      <td>19505</td>\n      <td>trial_3_5</td>\n    </tr>\n  </tbody>\n</table>\n</div>"
     },
     "metadata": {},
     "execution_count": 116
    }
   ],
   "source": [
    "exp = []\n",
    "for i in sujets_list:\n",
    "    temp = pd.DataFrame(df.xs(i))\n",
    "    exp.append(temp)\n",
    "\n",
    "exp[0]"
   ]
  }
 ],
 "metadata": {
  "kernelspec": {
   "display_name": "Python 3",
   "language": "python",
   "name": "python3"
  },
  "language_info": {
   "codemirror_mode": {
    "name": "ipython",
    "version": 2
   },
   "file_extension": ".py",
   "mimetype": "text/x-python",
   "name": "python",
   "nbconvert_exporter": "python",
   "pygments_lexer": "ipython2",
   "version": "3.7.1-final"
  },
  "pycharm": {
   "stem_cell": {
    "cell_type": "raw",
    "source": [],
    "metadata": {
     "collapsed": false
    }
   }
  }
 },
 "nbformat": 4,
 "nbformat_minor": 0
}